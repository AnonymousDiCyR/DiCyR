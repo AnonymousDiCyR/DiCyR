{
 "cells": [
  {
   "cell_type": "code",
   "execution_count": 1,
   "metadata": {},
   "outputs": [],
   "source": [
    "import sys\n",
    "sys.path.append(\"../\")\n",
    "\n",
    "from torch import nn\n",
    "from data_utils import load_mnist, load_usps\n",
    "from models import DomainAdaptationNetwork\n",
    "\n",
    "import torch\n",
    "from torch.nn import functional as F\n",
    "import numpy as np\n",
    "from train import train_domain_adaptation\n",
    "from utils import test_network, plot_target_cross_domain_swapping, plot_tsne"
   ]
  },
  {
   "cell_type": "code",
   "execution_count": 2,
   "metadata": {},
   "outputs": [],
   "source": [
    "torch.manual_seed(0)\n",
    "import numpy as np\n",
    "np.random.seed(0)\n",
    "torch.backends.cudnn.deterministic = True\n",
    "torch.backends.cudnn.benchmark = False"
   ]
  },
  {
   "cell_type": "code",
   "execution_count": 3,
   "metadata": {},
   "outputs": [],
   "source": [
    "class Decoder(nn.Module):\n",
    "    def __init__(self, latent_space_dim, conv_feat_size, nb_channels=3):\n",
    "        super(Decoder, self).__init__()\n",
    "\n",
    "        self.latent_space_dim = latent_space_dim\n",
    "        self.conv_feat_size = conv_feat_size\n",
    "\n",
    "        self.deco_dense = nn.Sequential(\n",
    "            nn.Linear(in_features=latent_space_dim, out_features=1024),\n",
    "            nn.ReLU(True),\n",
    "            nn.Linear(in_features=1024, out_features=np.prod(self.conv_feat_size)),\n",
    "            nn.ReLU(True),\n",
    "        )\n",
    "\n",
    "        self.deco_fetures = nn.Sequential(\n",
    "            nn.Conv2d(in_channels=self.conv_feat_size[0], out_channels=75, kernel_size=3, padding=1),\n",
    "            nn.ReLU(True),\n",
    "            nn.Upsample(scale_factor=2),\n",
    "            nn.Conv2d(in_channels=75, out_channels=50, kernel_size=5, padding=2),\n",
    "            nn.ReLU(True),\n",
    "            nn.Upsample(scale_factor=2),\n",
    "            nn.Conv2d(in_channels=50, out_channels=1, kernel_size=5, padding=2),\n",
    "            nn.Sigmoid()\n",
    "        )\n",
    "\n",
    "    def forward(self, z_share, z_spe):\n",
    "        z = torch.cat([z_share, z_spe], 1)\n",
    "        feat_encode = self.deco_dense(z)\n",
    "        feat_encode = feat_encode.view(-1, *self.conv_feat_size)\n",
    "        y = self.deco_fetures(feat_encode)\n",
    "\n",
    "        return y\n",
    "\n",
    "\n",
    "class Encoder(nn.Module):\n",
    "    def __init__(self, latent_space_dim, img_size, nb_channels=3):\n",
    "        super(Encoder, self).__init__()\n",
    "\n",
    "        self.latent_space_dim = latent_space_dim\n",
    "        self.nb_channels = nb_channels\n",
    "\n",
    "        self.conv_feat = nn.Sequential(\n",
    "            nn.Conv2d(in_channels=1, out_channels=50, kernel_size=5, padding=2),\n",
    "            nn.ReLU(True),\n",
    "            nn.BatchNorm2d(50),\n",
    "            nn.MaxPool2d(kernel_size=2, stride=2),\n",
    "            nn.Conv2d(in_channels=50, out_channels=75, kernel_size=5, padding=2),\n",
    "            nn.ReLU(True),\n",
    "            nn.BatchNorm2d(75),\n",
    "            nn.MaxPool2d(kernel_size=2, stride=2),\n",
    "            nn.Conv2d(in_channels=75, out_channels=100, kernel_size=3, padding=1),\n",
    "            nn.ReLU(True),\n",
    "            nn.BatchNorm2d(100),\n",
    "        )\n",
    "\n",
    "        self.conv_feat_size = self.conv_feat(torch.zeros(1, *img_size)).shape[1:]\n",
    "        self.dense_feature_size = np.prod(self.conv_feat_size)\n",
    "\n",
    "        self.dense_feat = nn.Sequential(\n",
    "            nn.Linear(in_features=self.dense_feature_size, out_features=1024),\n",
    "            nn.ReLU(True), )\n",
    "\n",
    "        self.share_feat = nn.Sequential(\n",
    "            nn.Linear(in_features=1024, out_features=latent_space_dim),\n",
    "            nn.ReLU(True),\n",
    "        )\n",
    "\n",
    "        self.source_feat = nn.Sequential(\n",
    "            nn.Linear(in_features=1024, out_features=latent_space_dim),\n",
    "            nn.ReLU(True),\n",
    "        )\n",
    "\n",
    "        self.target_feat = nn.Sequential(\n",
    "            nn.Linear(in_features=1024, out_features=latent_space_dim),\n",
    "            nn.ReLU(True),\n",
    "        )\n",
    "\n",
    "    def forward(self, input_data):\n",
    "        if (input_data.shape[1] == 1) & (self.nb_channels == 3):\n",
    "            input_data = input_data.repeat(1, 3, 1, 1)\n",
    "        feat = self.conv_feat(input_data)\n",
    "        feat = feat.view(-1, self.dense_feature_size)\n",
    "        feat = self.dense_feat(feat)\n",
    "        z_share = self.share_feat(feat)\n",
    "        z_source = self.source_feat(feat)\n",
    "        z_target = self.target_feat(feat)\n",
    "        return z_share, z_source, z_target\n",
    "\n",
    "    def forward_share(self, input_data):\n",
    "        if (input_data.shape[1] == 1) & (self.nb_channels == 3):\n",
    "            input_data = input_data.repeat(1, 3, 1, 1)\n",
    "        feat = self.conv_feat(input_data)\n",
    "        feat = feat.view(-1, self.dense_feature_size)\n",
    "        feat = self.dense_feat(feat)\n",
    "        z_share = self.share_feat(feat)\n",
    "        return z_share\n",
    "\n",
    "    def forward_source(self, input_data):\n",
    "        if (input_data.shape[1] == 1) & (self.nb_channels == 3):\n",
    "            input_data = input_data.repeat(1, 3, 1, 1)\n",
    "        feat = self.conv_feat(input_data)\n",
    "        feat = feat.view(-1, self.dense_feature_size)\n",
    "        feat = self.dense_feat(feat)\n",
    "        z_source = self.source_feat(feat)\n",
    "        return z_source\n",
    "\n",
    "    def forward_target(self, input_data):\n",
    "        if (input_data.shape[1] == 1) & (self.nb_channels == 3):\n",
    "            input_data = input_data.repeat(1, 3, 1, 1)\n",
    "        feat = self.conv_feat(input_data)\n",
    "        feat = feat.view(-1, self.dense_feature_size)\n",
    "        feat = self.dense_feat(feat)\n",
    "        z_target = self.target_feat(feat)\n",
    "        return z_target\n"
   ]
  },
  {
   "cell_type": "code",
   "execution_count": 4,
   "metadata": {},
   "outputs": [
    {
     "name": "stderr",
     "output_type": "stream",
     "text": [
      "  0%|          | 0/50 [00:00<?, ?it/s]/home/david/anaconda3/envs/domain_adaptation/lib/python3.6/site-packages/torch/nn/modules/container.py:92: UserWarning: Implicit dimension choice for log_softmax has been deprecated. Change the call to include dim=X as an argument.\n",
      "  input = module(input)\n",
      "epoch:0 current target accuracy:49.66%:   2%|▏         | 1/50 [00:09<07:51,  9.62s/it]"
     ]
    },
    {
     "name": "stdout",
     "output_type": "stream",
     "text": [
      "epoch [1/50], loss:1.6127\n",
      "accuracy source: 89.49%\n",
      "accuracy target: 49.63%\n"
     ]
    },
    {
     "name": "stderr",
     "output_type": "stream",
     "text": [
      "epoch:1 current target accuracy:70.28%:   4%|▍         | 2/50 [00:18<07:35,  9.48s/it]"
     ]
    },
    {
     "name": "stdout",
     "output_type": "stream",
     "text": [
      "epoch [2/50], loss:1.1481\n",
      "accuracy source: 96.85%\n",
      "accuracy target: 70.23%\n"
     ]
    },
    {
     "name": "stderr",
     "output_type": "stream",
     "text": [
      "epoch:2 current target accuracy:78.15%:   6%|▌         | 3/50 [00:27<07:19,  9.36s/it]"
     ]
    },
    {
     "name": "stdout",
     "output_type": "stream",
     "text": [
      "epoch [3/50], loss:1.0096\n",
      "accuracy source: 98.02%\n",
      "accuracy target: 78.1%\n"
     ]
    },
    {
     "name": "stderr",
     "output_type": "stream",
     "text": [
      "epoch:3 current target accuracy:82.8%:   8%|▊         | 4/50 [00:36<07:05,  9.25s/it] "
     ]
    },
    {
     "name": "stdout",
     "output_type": "stream",
     "text": [
      "epoch [4/50], loss:0.9612\n",
      "accuracy source: 98.51%\n",
      "accuracy target: 82.74%\n"
     ]
    },
    {
     "name": "stderr",
     "output_type": "stream",
     "text": [
      "epoch:4 current target accuracy:83.94%:  10%|█         | 5/50 [00:45<06:53,  9.20s/it]"
     ]
    },
    {
     "name": "stdout",
     "output_type": "stream",
     "text": [
      "epoch [5/50], loss:0.9302\n",
      "accuracy source: 98.57%\n",
      "accuracy target: 83.88%\n"
     ]
    },
    {
     "name": "stderr",
     "output_type": "stream",
     "text": [
      "epoch:5 current target accuracy:85.31%:  12%|█▏        | 6/50 [00:54<06:42,  9.15s/it]"
     ]
    },
    {
     "name": "stdout",
     "output_type": "stream",
     "text": [
      "epoch [6/50], loss:0.8904\n",
      "accuracy source: 98.77%\n",
      "accuracy target: 85.25%\n"
     ]
    },
    {
     "name": "stderr",
     "output_type": "stream",
     "text": [
      "epoch:6 current target accuracy:87.12%:  14%|█▍        | 7/50 [01:04<06:32,  9.13s/it]"
     ]
    },
    {
     "name": "stdout",
     "output_type": "stream",
     "text": [
      "epoch [7/50], loss:0.8804\n",
      "accuracy source: 98.74%\n",
      "accuracy target: 87.06%\n"
     ]
    },
    {
     "name": "stderr",
     "output_type": "stream",
     "text": [
      "epoch:7 current target accuracy:89.55%:  16%|█▌        | 8/50 [01:13<06:22,  9.11s/it]"
     ]
    },
    {
     "name": "stdout",
     "output_type": "stream",
     "text": [
      "epoch [8/50], loss:0.8774\n",
      "accuracy source: 98.93%\n",
      "accuracy target: 89.49%\n"
     ]
    },
    {
     "name": "stderr",
     "output_type": "stream",
     "text": [
      "epoch:8 current target accuracy:90.0%:  18%|█▊        | 9/50 [01:22<06:14,  9.13s/it] "
     ]
    },
    {
     "name": "stdout",
     "output_type": "stream",
     "text": [
      "epoch [9/50], loss:0.8495\n",
      "accuracy source: 98.74%\n",
      "accuracy target: 89.94%\n"
     ]
    },
    {
     "name": "stderr",
     "output_type": "stream",
     "text": [
      "epoch:9 current target accuracy:91.21%:  20%|██        | 10/50 [01:31<06:05,  9.14s/it]"
     ]
    },
    {
     "name": "stdout",
     "output_type": "stream",
     "text": [
      "epoch [10/50], loss:0.8399\n",
      "accuracy source: 98.93%\n",
      "accuracy target: 91.15%\n"
     ]
    },
    {
     "name": "stderr",
     "output_type": "stream",
     "text": [
      "epoch:10 current target accuracy:92.29%:  22%|██▏       | 11/50 [01:40<05:56,  9.13s/it]"
     ]
    },
    {
     "name": "stdout",
     "output_type": "stream",
     "text": [
      "epoch [11/50], loss:0.8110\n",
      "accuracy source: 99.0%\n",
      "accuracy target: 92.23%\n"
     ]
    },
    {
     "name": "stderr",
     "output_type": "stream",
     "text": [
      "epoch:11 current target accuracy:92.79%:  24%|██▍       | 12/50 [01:49<05:47,  9.13s/it]"
     ]
    },
    {
     "name": "stdout",
     "output_type": "stream",
     "text": [
      "epoch [12/50], loss:0.7987\n",
      "accuracy source: 99.16%\n",
      "accuracy target: 92.72%\n"
     ]
    },
    {
     "name": "stderr",
     "output_type": "stream",
     "text": [
      "epoch:12 current target accuracy:91.7%:  26%|██▌       | 13/50 [01:58<05:39,  9.16s/it] "
     ]
    },
    {
     "name": "stdout",
     "output_type": "stream",
     "text": [
      "epoch [13/50], loss:0.7962\n",
      "accuracy source: 98.97%\n",
      "accuracy target: 91.64%\n"
     ]
    },
    {
     "name": "stderr",
     "output_type": "stream",
     "text": [
      "epoch:13 current target accuracy:93.09%:  28%|██▊       | 14/50 [02:08<05:29,  9.16s/it]"
     ]
    },
    {
     "name": "stdout",
     "output_type": "stream",
     "text": [
      "epoch [14/50], loss:0.7772\n",
      "accuracy source: 99.26%\n",
      "accuracy target: 93.02%\n"
     ]
    },
    {
     "name": "stderr",
     "output_type": "stream",
     "text": [
      "epoch:14 current target accuracy:92.92%:  30%|███       | 15/50 [02:17<05:21,  9.18s/it]"
     ]
    },
    {
     "name": "stdout",
     "output_type": "stream",
     "text": [
      "epoch [15/50], loss:0.7819\n",
      "accuracy source: 99.11%\n",
      "accuracy target: 92.86%\n"
     ]
    },
    {
     "name": "stderr",
     "output_type": "stream",
     "text": [
      "epoch:15 current target accuracy:92.59%:  32%|███▏      | 16/50 [02:26<05:12,  9.19s/it]"
     ]
    },
    {
     "name": "stdout",
     "output_type": "stream",
     "text": [
      "epoch [16/50], loss:0.7585\n",
      "accuracy source: 99.2%\n",
      "accuracy target: 92.53%\n"
     ]
    },
    {
     "name": "stderr",
     "output_type": "stream",
     "text": [
      "epoch:16 current target accuracy:93.87%:  34%|███▍      | 17/50 [02:35<05:04,  9.22s/it]"
     ]
    },
    {
     "name": "stdout",
     "output_type": "stream",
     "text": [
      "epoch [17/50], loss:0.7596\n",
      "accuracy source: 99.08%\n",
      "accuracy target: 93.8%\n"
     ]
    },
    {
     "name": "stderr",
     "output_type": "stream",
     "text": [
      "epoch:17 current target accuracy:93.54%:  36%|███▌      | 18/50 [02:45<04:55,  9.24s/it]"
     ]
    },
    {
     "name": "stdout",
     "output_type": "stream",
     "text": [
      "epoch [18/50], loss:0.7412\n",
      "accuracy source: 99.31%\n",
      "accuracy target: 93.48%\n"
     ]
    },
    {
     "name": "stderr",
     "output_type": "stream",
     "text": [
      "epoch:18 current target accuracy:92.99%:  38%|███▊      | 19/50 [02:54<04:49,  9.32s/it]"
     ]
    },
    {
     "name": "stdout",
     "output_type": "stream",
     "text": [
      "epoch [19/50], loss:0.7278\n",
      "accuracy source: 99.31%\n",
      "accuracy target: 92.93%\n"
     ]
    },
    {
     "name": "stderr",
     "output_type": "stream",
     "text": [
      "epoch:19 current target accuracy:92.79%:  40%|████      | 20/50 [03:03<04:39,  9.31s/it]"
     ]
    },
    {
     "name": "stdout",
     "output_type": "stream",
     "text": [
      "epoch [20/50], loss:0.7295\n",
      "accuracy source: 99.27%\n",
      "accuracy target: 92.72%\n"
     ]
    },
    {
     "name": "stderr",
     "output_type": "stream",
     "text": [
      "epoch:20 current target accuracy:92.07%:  42%|████▏     | 21/50 [03:13<04:32,  9.41s/it]"
     ]
    },
    {
     "name": "stdout",
     "output_type": "stream",
     "text": [
      "epoch [21/50], loss:0.7218\n",
      "accuracy source: 99.34%\n",
      "accuracy target: 92.01%\n"
     ]
    },
    {
     "name": "stderr",
     "output_type": "stream",
     "text": [
      "epoch:21 current target accuracy:93.25%:  44%|████▍     | 22/50 [03:23<04:25,  9.49s/it]"
     ]
    },
    {
     "name": "stdout",
     "output_type": "stream",
     "text": [
      "epoch [22/50], loss:0.7225\n",
      "accuracy source: 99.33%\n",
      "accuracy target: 93.19%\n"
     ]
    },
    {
     "name": "stderr",
     "output_type": "stream",
     "text": [
      "epoch:22 current target accuracy:93.94%:  46%|████▌     | 23/50 [03:32<04:15,  9.46s/it]"
     ]
    },
    {
     "name": "stdout",
     "output_type": "stream",
     "text": [
      "epoch [23/50], loss:0.7155\n",
      "accuracy source: 99.31%\n",
      "accuracy target: 93.87%\n"
     ]
    },
    {
     "name": "stderr",
     "output_type": "stream",
     "text": [
      "epoch:23 current target accuracy:94.79%:  48%|████▊     | 24/50 [03:42<04:07,  9.51s/it]"
     ]
    },
    {
     "name": "stdout",
     "output_type": "stream",
     "text": [
      "epoch [24/50], loss:0.7217\n",
      "accuracy source: 99.27%\n",
      "accuracy target: 94.72%\n"
     ]
    },
    {
     "name": "stderr",
     "output_type": "stream",
     "text": [
      "epoch:24 current target accuracy:93.83%:  50%|█████     | 25/50 [03:51<03:58,  9.54s/it]"
     ]
    },
    {
     "name": "stdout",
     "output_type": "stream",
     "text": [
      "epoch [25/50], loss:0.7181\n",
      "accuracy source: 99.27%\n",
      "accuracy target: 93.76%\n"
     ]
    },
    {
     "name": "stderr",
     "output_type": "stream",
     "text": [
      "epoch:25 current target accuracy:94.2%:  52%|█████▏    | 26/50 [04:01<03:49,  9.56s/it] "
     ]
    },
    {
     "name": "stdout",
     "output_type": "stream",
     "text": [
      "epoch [26/50], loss:0.6969\n",
      "accuracy source: 99.36%\n",
      "accuracy target: 94.13%\n"
     ]
    },
    {
     "name": "stderr",
     "output_type": "stream",
     "text": [
      "epoch:26 current target accuracy:93.95%:  54%|█████▍    | 27/50 [04:10<03:38,  9.50s/it]"
     ]
    },
    {
     "name": "stdout",
     "output_type": "stream",
     "text": [
      "epoch [27/50], loss:0.6998\n",
      "accuracy source: 99.27%\n",
      "accuracy target: 93.89%\n"
     ]
    },
    {
     "name": "stderr",
     "output_type": "stream",
     "text": [
      "epoch:27 current target accuracy:93.18%:  56%|█████▌    | 28/50 [04:20<03:29,  9.54s/it]"
     ]
    },
    {
     "name": "stdout",
     "output_type": "stream",
     "text": [
      "epoch [28/50], loss:0.7153\n",
      "accuracy source: 99.2%\n",
      "accuracy target: 93.12%\n"
     ]
    },
    {
     "name": "stderr",
     "output_type": "stream",
     "text": [
      "epoch:28 current target accuracy:93.64%:  58%|█████▊    | 29/50 [04:29<03:20,  9.54s/it]"
     ]
    },
    {
     "name": "stdout",
     "output_type": "stream",
     "text": [
      "epoch [29/50], loss:0.6932\n",
      "accuracy source: 99.42%\n",
      "accuracy target: 93.57%\n"
     ]
    },
    {
     "name": "stderr",
     "output_type": "stream",
     "text": [
      "epoch:29 current target accuracy:94.61%:  60%|██████    | 30/50 [04:39<03:09,  9.48s/it]"
     ]
    },
    {
     "name": "stdout",
     "output_type": "stream",
     "text": [
      "epoch [30/50], loss:0.6884\n",
      "accuracy source: 99.42%\n",
      "accuracy target: 94.54%\n"
     ]
    },
    {
     "name": "stderr",
     "output_type": "stream",
     "text": [
      "epoch:30 current target accuracy:94.54%:  62%|██████▏   | 31/50 [04:48<03:00,  9.48s/it]"
     ]
    },
    {
     "name": "stdout",
     "output_type": "stream",
     "text": [
      "epoch [31/50], loss:0.6794\n",
      "accuracy source: 99.51%\n",
      "accuracy target: 94.48%\n"
     ]
    },
    {
     "name": "stderr",
     "output_type": "stream",
     "text": [
      "epoch:31 current target accuracy:94.01%:  64%|██████▍   | 32/50 [04:58<02:50,  9.46s/it]"
     ]
    },
    {
     "name": "stdout",
     "output_type": "stream",
     "text": [
      "epoch [32/50], loss:0.6794\n",
      "accuracy source: 99.34%\n",
      "accuracy target: 93.94%\n"
     ]
    },
    {
     "name": "stderr",
     "output_type": "stream",
     "text": [
      "epoch:32 current target accuracy:91.52%:  66%|██████▌   | 33/50 [05:07<02:41,  9.51s/it]"
     ]
    },
    {
     "name": "stdout",
     "output_type": "stream",
     "text": [
      "epoch [33/50], loss:0.6946\n",
      "accuracy source: 99.18%\n",
      "accuracy target: 91.46%\n"
     ]
    },
    {
     "name": "stderr",
     "output_type": "stream",
     "text": [
      "epoch:33 current target accuracy:92.61%:  68%|██████▊   | 34/50 [05:17<02:31,  9.49s/it]"
     ]
    },
    {
     "name": "stdout",
     "output_type": "stream",
     "text": [
      "epoch [34/50], loss:0.6753\n",
      "accuracy source: 99.41%\n",
      "accuracy target: 92.54%\n"
     ]
    },
    {
     "name": "stderr",
     "output_type": "stream",
     "text": [
      "epoch:34 current target accuracy:93.83%:  70%|███████   | 35/50 [05:26<02:21,  9.45s/it]"
     ]
    },
    {
     "name": "stdout",
     "output_type": "stream",
     "text": [
      "epoch [35/50], loss:0.6630\n",
      "accuracy source: 99.47%\n",
      "accuracy target: 93.76%\n"
     ]
    },
    {
     "name": "stderr",
     "output_type": "stream",
     "text": [
      "epoch:35 current target accuracy:93.58%:  72%|███████▏  | 36/50 [05:36<02:13,  9.57s/it]"
     ]
    },
    {
     "name": "stdout",
     "output_type": "stream",
     "text": [
      "epoch [36/50], loss:0.6367\n",
      "accuracy source: 99.64%\n",
      "accuracy target: 93.52%\n"
     ]
    },
    {
     "name": "stderr",
     "output_type": "stream",
     "text": [
      "epoch:36 current target accuracy:93.11%:  74%|███████▍  | 37/50 [05:46<02:04,  9.59s/it]"
     ]
    },
    {
     "name": "stdout",
     "output_type": "stream",
     "text": [
      "epoch [37/50], loss:0.6568\n",
      "accuracy source: 99.52%\n",
      "accuracy target: 93.05%\n"
     ]
    },
    {
     "name": "stderr",
     "output_type": "stream",
     "text": [
      "epoch:37 current target accuracy:93.54%:  76%|███████▌  | 38/50 [05:55<01:54,  9.53s/it]"
     ]
    },
    {
     "name": "stdout",
     "output_type": "stream",
     "text": [
      "epoch [38/50], loss:0.6702\n",
      "accuracy source: 99.42%\n",
      "accuracy target: 93.48%\n"
     ]
    },
    {
     "name": "stderr",
     "output_type": "stream",
     "text": [
      "epoch:38 current target accuracy:94.42%:  78%|███████▊  | 39/50 [06:04<01:44,  9.51s/it]"
     ]
    },
    {
     "name": "stdout",
     "output_type": "stream",
     "text": [
      "epoch [39/50], loss:0.6755\n",
      "accuracy source: 99.36%\n",
      "accuracy target: 94.35%\n"
     ]
    },
    {
     "name": "stderr",
     "output_type": "stream",
     "text": [
      "epoch:39 current target accuracy:94.45%:  80%|████████  | 40/50 [06:15<01:36,  9.68s/it]"
     ]
    },
    {
     "name": "stdout",
     "output_type": "stream",
     "text": [
      "epoch [40/50], loss:0.6422\n",
      "accuracy source: 99.55%\n",
      "accuracy target: 94.38%\n"
     ]
    },
    {
     "name": "stderr",
     "output_type": "stream",
     "text": [
      "epoch:40 current target accuracy:94.98%:  82%|████████▏ | 41/50 [06:24<01:26,  9.63s/it]"
     ]
    },
    {
     "name": "stdout",
     "output_type": "stream",
     "text": [
      "epoch [41/50], loss:0.6341\n",
      "accuracy source: 99.57%\n",
      "accuracy target: 94.92%\n"
     ]
    },
    {
     "name": "stderr",
     "output_type": "stream",
     "text": [
      "epoch:41 current target accuracy:95.53%:  84%|████████▍ | 42/50 [06:34<01:17,  9.74s/it]"
     ]
    },
    {
     "name": "stdout",
     "output_type": "stream",
     "text": [
      "epoch [42/50], loss:0.6473\n",
      "accuracy source: 99.42%\n",
      "accuracy target: 95.46%\n"
     ]
    },
    {
     "name": "stderr",
     "output_type": "stream",
     "text": [
      "epoch:42 current target accuracy:95.1%:  86%|████████▌ | 43/50 [06:44<01:07,  9.71s/it] "
     ]
    },
    {
     "name": "stdout",
     "output_type": "stream",
     "text": [
      "epoch [43/50], loss:0.6506\n",
      "accuracy source: 99.51%\n",
      "accuracy target: 95.04%\n"
     ]
    },
    {
     "name": "stderr",
     "output_type": "stream",
     "text": [
      "epoch:43 current target accuracy:95.78%:  88%|████████▊ | 44/50 [06:53<00:57,  9.59s/it]"
     ]
    },
    {
     "name": "stdout",
     "output_type": "stream",
     "text": [
      "epoch [44/50], loss:0.6310\n",
      "accuracy source: 99.67%\n",
      "accuracy target: 95.71%\n"
     ]
    },
    {
     "name": "stderr",
     "output_type": "stream",
     "text": [
      "epoch:44 current target accuracy:95.82%:  90%|█████████ | 45/50 [07:02<00:47,  9.51s/it]"
     ]
    },
    {
     "name": "stdout",
     "output_type": "stream",
     "text": [
      "epoch [45/50], loss:0.6436\n",
      "accuracy source: 99.66%\n",
      "accuracy target: 95.75%\n"
     ]
    },
    {
     "name": "stderr",
     "output_type": "stream",
     "text": [
      "epoch:45 current target accuracy:95.17%:  92%|█████████▏| 46/50 [07:12<00:37,  9.47s/it]"
     ]
    },
    {
     "name": "stdout",
     "output_type": "stream",
     "text": [
      "epoch [46/50], loss:0.6620\n",
      "accuracy source: 99.37%\n",
      "accuracy target: 95.11%\n"
     ]
    },
    {
     "name": "stderr",
     "output_type": "stream",
     "text": [
      "epoch:46 current target accuracy:95.97%:  94%|█████████▍| 47/50 [07:21<00:28,  9.46s/it]"
     ]
    },
    {
     "name": "stdout",
     "output_type": "stream",
     "text": [
      "epoch [47/50], loss:0.6742\n",
      "accuracy source: 99.49%\n",
      "accuracy target: 95.9%\n"
     ]
    },
    {
     "name": "stderr",
     "output_type": "stream",
     "text": [
      "epoch:47 current target accuracy:96.19%:  96%|█████████▌| 48/50 [07:31<00:19,  9.60s/it]"
     ]
    },
    {
     "name": "stdout",
     "output_type": "stream",
     "text": [
      "epoch [48/50], loss:0.6297\n",
      "accuracy source: 99.67%\n",
      "accuracy target: 96.12%\n"
     ]
    },
    {
     "name": "stderr",
     "output_type": "stream",
     "text": [
      "epoch:48 current target accuracy:95.64%:  98%|█████████▊| 49/50 [07:40<00:09,  9.52s/it]"
     ]
    },
    {
     "name": "stdout",
     "output_type": "stream",
     "text": [
      "epoch [49/50], loss:0.6522\n",
      "accuracy source: 99.47%\n",
      "accuracy target: 95.57%\n"
     ]
    },
    {
     "name": "stderr",
     "output_type": "stream",
     "text": [
      "epoch:49 current target accuracy:96.19%: 100%|██████████| 50/50 [07:50<00:00,  9.41s/it]"
     ]
    },
    {
     "name": "stdout",
     "output_type": "stream",
     "text": [
      "epoch [50/50], loss:0.6609\n",
      "accuracy source: 99.42%\n",
      "accuracy target: 96.12%\n"
     ]
    },
    {
     "name": "stderr",
     "output_type": "stream",
     "text": [
      "\n"
     ]
    }
   ],
   "source": [
    "learning_rate = 5e-4\n",
    "\n",
    "source_train_loader, source_test_loader =  load_usps(img_size=32, augment=True, batch_size=64, shuffle=True, num_workers=2)\n",
    "target_train_loader, target_test_loader = load_mnist(img_size=32, augment=True, batch_size=64, shuffle=True, num_workers=2)\n",
    "\n",
    "encoder = Encoder(latent_space_dim=150, img_size=(1,32,32), nb_channels=1)\n",
    "\n",
    "conv_feat_size = encoder.conv_feat_size\n",
    "decoder_source = Decoder(latent_space_dim=300, conv_feat_size=conv_feat_size, nb_channels=1)\n",
    "decoder_target = Decoder(latent_space_dim=300, conv_feat_size=conv_feat_size, nb_channels=1)\n",
    "\n",
    "classifier = nn.Sequential(nn.Dropout2d(0),\n",
    "                         nn.Linear(in_features=150, out_features=10),\n",
    "                         nn.LogSoftmax())\n",
    "\n",
    "model = DomainAdaptationNetwork(encoder, decoder_source, decoder_target, classifier).cuda()\n",
    "\n",
    "optimizer = torch.optim.Adam([\n",
    "    {'params': model.encoder.parameters()},\n",
    "    {'params': model.decoder_source.parameters()},\n",
    "    {'params': model.decoder_target.parameters()},\n",
    "    {'params': model.classifier.parameters()},\n",
    "    {'params': model.spe_predictor.parameters()},\n",
    "    {'params': model.share_predictor.parameters()}], lr=learning_rate, weight_decay=0.001)\n",
    "\n",
    "epochs = 50\n",
    "betas = np.linspace(0, 5, epochs)\n",
    "\n",
    "train_domain_adaptation(model, optimizer, source_train_loader, target_train_loader,\n",
    "                                            epochs=50, betas=betas, gamma=0.5, delta=0.5)"
   ]
  },
  {
   "cell_type": "code",
   "execution_count": 5,
   "metadata": {},
   "outputs": [
    {
     "data": {
      "text/plain": [
       "0.9751"
      ]
     },
     "execution_count": 5,
     "metadata": {},
     "output_type": "execute_result"
    }
   ],
   "source": [
    "model.eval()\n",
    "test_network(model, target_test_loader) "
   ]
  },
  {
   "cell_type": "code",
   "execution_count": 6,
   "metadata": {},
   "outputs": [
    {
     "name": "stderr",
     "output_type": "stream",
     "text": [
      "epoch:0 current target accuracy:96.06%:   2%|▏         | 1/50 [00:09<07:30,  9.20s/it]"
     ]
    },
    {
     "name": "stdout",
     "output_type": "stream",
     "text": [
      "epoch [1/50], loss:0.6487\n",
      "accuracy source: 99.48%\n",
      "accuracy target: 96.0%\n"
     ]
    },
    {
     "name": "stderr",
     "output_type": "stream",
     "text": [
      "epoch:1 current target accuracy:96.2%:   4%|▍         | 2/50 [00:18<07:19,  9.15s/it] "
     ]
    },
    {
     "name": "stdout",
     "output_type": "stream",
     "text": [
      "epoch [2/50], loss:0.6000\n",
      "accuracy source: 99.62%\n",
      "accuracy target: 96.13%\n"
     ]
    },
    {
     "name": "stderr",
     "output_type": "stream",
     "text": [
      "epoch:2 current target accuracy:96.37%:   6%|▌         | 3/50 [00:27<07:08,  9.11s/it]"
     ]
    },
    {
     "name": "stdout",
     "output_type": "stream",
     "text": [
      "epoch [3/50], loss:0.5901\n",
      "accuracy source: 99.68%\n",
      "accuracy target: 96.3%\n"
     ]
    },
    {
     "name": "stderr",
     "output_type": "stream",
     "text": [
      "epoch:3 current target accuracy:96.2%:   8%|▊         | 4/50 [00:36<06:58,  9.10s/it] "
     ]
    },
    {
     "name": "stdout",
     "output_type": "stream",
     "text": [
      "epoch [4/50], loss:0.5826\n",
      "accuracy source: 99.74%\n",
      "accuracy target: 96.13%\n"
     ]
    },
    {
     "name": "stderr",
     "output_type": "stream",
     "text": [
      "epoch:4 current target accuracy:96.93%:  10%|█         | 5/50 [00:45<06:56,  9.26s/it]"
     ]
    },
    {
     "name": "stdout",
     "output_type": "stream",
     "text": [
      "epoch [5/50], loss:0.5806\n",
      "accuracy source: 99.66%\n",
      "accuracy target: 96.86%\n"
     ]
    },
    {
     "name": "stderr",
     "output_type": "stream",
     "text": [
      "epoch:5 current target accuracy:97.15%:  12%|█▏        | 6/50 [00:55<06:47,  9.25s/it]"
     ]
    },
    {
     "name": "stdout",
     "output_type": "stream",
     "text": [
      "epoch [6/50], loss:0.5701\n",
      "accuracy source: 99.77%\n",
      "accuracy target: 97.08%\n"
     ]
    },
    {
     "name": "stderr",
     "output_type": "stream",
     "text": [
      "epoch:6 current target accuracy:97.2%:  14%|█▍        | 7/50 [01:04<06:44,  9.40s/it] "
     ]
    },
    {
     "name": "stdout",
     "output_type": "stream",
     "text": [
      "epoch [7/50], loss:0.5695\n",
      "accuracy source: 99.74%\n",
      "accuracy target: 97.14%\n"
     ]
    },
    {
     "name": "stderr",
     "output_type": "stream",
     "text": [
      "epoch:7 current target accuracy:96.83%:  16%|█▌        | 8/50 [01:14<06:37,  9.47s/it]"
     ]
    },
    {
     "name": "stdout",
     "output_type": "stream",
     "text": [
      "epoch [8/50], loss:0.5624\n",
      "accuracy source: 99.84%\n",
      "accuracy target: 96.77%\n"
     ]
    },
    {
     "name": "stderr",
     "output_type": "stream",
     "text": [
      "epoch:8 current target accuracy:97.2%:  18%|█▊        | 9/50 [01:23<06:26,  9.42s/it] "
     ]
    },
    {
     "name": "stdout",
     "output_type": "stream",
     "text": [
      "epoch [9/50], loss:0.5626\n",
      "accuracy source: 99.85%\n",
      "accuracy target: 97.14%\n"
     ]
    },
    {
     "name": "stderr",
     "output_type": "stream",
     "text": [
      "epoch:9 current target accuracy:97.13%:  20%|██        | 10/50 [01:34<06:25,  9.65s/it]"
     ]
    },
    {
     "name": "stdout",
     "output_type": "stream",
     "text": [
      "epoch [10/50], loss:0.5587\n",
      "accuracy source: 99.84%\n",
      "accuracy target: 97.07%\n"
     ]
    },
    {
     "name": "stderr",
     "output_type": "stream",
     "text": [
      "epoch:10 current target accuracy:97.48%:  22%|██▏       | 11/50 [01:43<06:19,  9.73s/it]"
     ]
    },
    {
     "name": "stdout",
     "output_type": "stream",
     "text": [
      "epoch [11/50], loss:0.5613\n",
      "accuracy source: 99.78%\n",
      "accuracy target: 97.41%\n"
     ]
    },
    {
     "name": "stderr",
     "output_type": "stream",
     "text": [
      "epoch:11 current target accuracy:97.6%:  24%|██▍       | 12/50 [01:53<06:09,  9.72s/it] "
     ]
    },
    {
     "name": "stdout",
     "output_type": "stream",
     "text": [
      "epoch [12/50], loss:0.5600\n",
      "accuracy source: 99.77%\n",
      "accuracy target: 97.53%\n"
     ]
    },
    {
     "name": "stderr",
     "output_type": "stream",
     "text": [
      "epoch:12 current target accuracy:97.01%:  26%|██▌       | 13/50 [02:02<05:52,  9.52s/it]"
     ]
    },
    {
     "name": "stdout",
     "output_type": "stream",
     "text": [
      "epoch [13/50], loss:0.5569\n",
      "accuracy source: 99.81%\n",
      "accuracy target: 96.94%\n"
     ]
    },
    {
     "name": "stderr",
     "output_type": "stream",
     "text": [
      "epoch:13 current target accuracy:97.11%:  28%|██▊       | 14/50 [02:12<05:44,  9.58s/it]"
     ]
    },
    {
     "name": "stdout",
     "output_type": "stream",
     "text": [
      "epoch [14/50], loss:0.5584\n",
      "accuracy source: 99.82%\n",
      "accuracy target: 97.04%\n"
     ]
    },
    {
     "name": "stderr",
     "output_type": "stream",
     "text": [
      "epoch:14 current target accuracy:97.49%:  30%|███       | 15/50 [02:21<05:33,  9.53s/it]"
     ]
    },
    {
     "name": "stdout",
     "output_type": "stream",
     "text": [
      "epoch [15/50], loss:0.5518\n",
      "accuracy source: 99.85%\n",
      "accuracy target: 97.42%\n"
     ]
    },
    {
     "name": "stderr",
     "output_type": "stream",
     "text": [
      "epoch:15 current target accuracy:97.34%:  32%|███▏      | 16/50 [02:30<05:19,  9.40s/it]"
     ]
    },
    {
     "name": "stdout",
     "output_type": "stream",
     "text": [
      "epoch [16/50], loss:0.5517\n",
      "accuracy source: 99.81%\n",
      "accuracy target: 97.27%\n"
     ]
    },
    {
     "name": "stderr",
     "output_type": "stream",
     "text": [
      "epoch:16 current target accuracy:97.34%:  34%|███▍      | 17/50 [02:40<05:13,  9.50s/it]"
     ]
    },
    {
     "name": "stdout",
     "output_type": "stream",
     "text": [
      "epoch [17/50], loss:0.5508\n",
      "accuracy source: 99.88%\n",
      "accuracy target: 97.27%\n"
     ]
    },
    {
     "name": "stderr",
     "output_type": "stream",
     "text": [
      "epoch:17 current target accuracy:97.24%:  36%|███▌      | 18/50 [02:49<04:59,  9.37s/it]"
     ]
    },
    {
     "name": "stdout",
     "output_type": "stream",
     "text": [
      "epoch [18/50], loss:0.5482\n",
      "accuracy source: 99.84%\n",
      "accuracy target: 97.18%\n"
     ]
    },
    {
     "name": "stderr",
     "output_type": "stream",
     "text": [
      "epoch:18 current target accuracy:97.11%:  38%|███▊      | 19/50 [02:58<04:48,  9.32s/it]"
     ]
    },
    {
     "name": "stdout",
     "output_type": "stream",
     "text": [
      "epoch [19/50], loss:0.5487\n",
      "accuracy source: 99.82%\n",
      "accuracy target: 97.04%\n"
     ]
    },
    {
     "name": "stderr",
     "output_type": "stream",
     "text": [
      "epoch:19 current target accuracy:97.23%:  40%|████      | 20/50 [03:08<04:38,  9.28s/it]"
     ]
    },
    {
     "name": "stdout",
     "output_type": "stream",
     "text": [
      "epoch [20/50], loss:0.5523\n",
      "accuracy source: 99.75%\n",
      "accuracy target: 97.16%\n"
     ]
    },
    {
     "name": "stderr",
     "output_type": "stream",
     "text": [
      "epoch:20 current target accuracy:97.78%:  42%|████▏     | 21/50 [03:18<04:34,  9.46s/it]"
     ]
    },
    {
     "name": "stdout",
     "output_type": "stream",
     "text": [
      "epoch [21/50], loss:0.5422\n",
      "accuracy source: 99.89%\n",
      "accuracy target: 97.71%\n"
     ]
    },
    {
     "name": "stderr",
     "output_type": "stream",
     "text": [
      "epoch:21 current target accuracy:97.64%:  44%|████▍     | 22/50 [03:27<04:21,  9.35s/it]"
     ]
    },
    {
     "name": "stdout",
     "output_type": "stream",
     "text": [
      "epoch [22/50], loss:0.5462\n",
      "accuracy source: 99.82%\n",
      "accuracy target: 97.57%\n"
     ]
    },
    {
     "name": "stderr",
     "output_type": "stream",
     "text": [
      "epoch:22 current target accuracy:97.09%:  46%|████▌     | 23/50 [03:36<04:16,  9.49s/it]"
     ]
    },
    {
     "name": "stdout",
     "output_type": "stream",
     "text": [
      "epoch [23/50], loss:0.5506\n",
      "accuracy source: 99.77%\n",
      "accuracy target: 97.03%\n"
     ]
    },
    {
     "name": "stderr",
     "output_type": "stream",
     "text": [
      "epoch:23 current target accuracy:97.71%:  48%|████▊     | 24/50 [03:46<04:03,  9.38s/it]"
     ]
    },
    {
     "name": "stdout",
     "output_type": "stream",
     "text": [
      "epoch [24/50], loss:0.5419\n",
      "accuracy source: 99.88%\n",
      "accuracy target: 97.64%\n"
     ]
    },
    {
     "name": "stderr",
     "output_type": "stream",
     "text": [
      "epoch:24 current target accuracy:97.53%:  50%|█████     | 25/50 [03:55<03:52,  9.30s/it]"
     ]
    },
    {
     "name": "stdout",
     "output_type": "stream",
     "text": [
      "epoch [25/50], loss:0.5443\n",
      "accuracy source: 99.81%\n",
      "accuracy target: 97.46%\n"
     ]
    },
    {
     "name": "stderr",
     "output_type": "stream",
     "text": [
      "epoch:25 current target accuracy:97.6%:  52%|█████▏    | 26/50 [04:04<03:46,  9.42s/it] "
     ]
    },
    {
     "name": "stdout",
     "output_type": "stream",
     "text": [
      "epoch [26/50], loss:0.5432\n",
      "accuracy source: 99.84%\n",
      "accuracy target: 97.53%\n"
     ]
    },
    {
     "name": "stderr",
     "output_type": "stream",
     "text": [
      "epoch:26 current target accuracy:97.46%:  54%|█████▍    | 27/50 [04:13<03:34,  9.31s/it]"
     ]
    },
    {
     "name": "stdout",
     "output_type": "stream",
     "text": [
      "epoch [27/50], loss:0.5431\n",
      "accuracy source: 99.84%\n",
      "accuracy target: 97.4%\n"
     ]
    },
    {
     "name": "stderr",
     "output_type": "stream",
     "text": [
      "epoch:27 current target accuracy:97.75%:  56%|█████▌    | 28/50 [04:23<03:23,  9.27s/it]"
     ]
    },
    {
     "name": "stdout",
     "output_type": "stream",
     "text": [
      "epoch [28/50], loss:0.5389\n",
      "accuracy source: 99.86%\n",
      "accuracy target: 97.68%\n"
     ]
    },
    {
     "name": "stderr",
     "output_type": "stream",
     "text": [
      "epoch:28 current target accuracy:97.31%:  58%|█████▊    | 29/50 [04:32<03:14,  9.26s/it]"
     ]
    },
    {
     "name": "stdout",
     "output_type": "stream",
     "text": [
      "epoch [29/50], loss:0.5441\n",
      "accuracy source: 99.84%\n",
      "accuracy target: 97.25%\n"
     ]
    },
    {
     "name": "stderr",
     "output_type": "stream",
     "text": [
      "epoch:29 current target accuracy:97.23%:  60%|██████    | 30/50 [04:42<03:08,  9.45s/it]"
     ]
    },
    {
     "name": "stdout",
     "output_type": "stream",
     "text": [
      "epoch [30/50], loss:0.5426\n",
      "accuracy source: 99.81%\n",
      "accuracy target: 97.16%\n"
     ]
    },
    {
     "name": "stderr",
     "output_type": "stream",
     "text": [
      "epoch:30 current target accuracy:97.76%:  62%|██████▏   | 31/50 [04:51<02:57,  9.35s/it]"
     ]
    },
    {
     "name": "stdout",
     "output_type": "stream",
     "text": [
      "epoch [31/50], loss:0.5365\n",
      "accuracy source: 99.86%\n",
      "accuracy target: 97.7%\n"
     ]
    },
    {
     "name": "stderr",
     "output_type": "stream",
     "text": [
      "epoch:31 current target accuracy:97.34%:  64%|██████▍   | 32/50 [05:01<02:50,  9.45s/it]"
     ]
    },
    {
     "name": "stdout",
     "output_type": "stream",
     "text": [
      "epoch [32/50], loss:0.5395\n",
      "accuracy source: 99.82%\n",
      "accuracy target: 97.27%\n"
     ]
    },
    {
     "name": "stderr",
     "output_type": "stream",
     "text": [
      "epoch:32 current target accuracy:97.96%:  66%|██████▌   | 33/50 [05:10<02:38,  9.33s/it]"
     ]
    },
    {
     "name": "stdout",
     "output_type": "stream",
     "text": [
      "epoch [33/50], loss:0.5352\n",
      "accuracy source: 99.88%\n",
      "accuracy target: 97.89%\n"
     ]
    },
    {
     "name": "stderr",
     "output_type": "stream",
     "text": [
      "epoch:33 current target accuracy:97.7%:  68%|██████▊   | 34/50 [05:19<02:28,  9.30s/it] "
     ]
    },
    {
     "name": "stdout",
     "output_type": "stream",
     "text": [
      "epoch [34/50], loss:0.5344\n",
      "accuracy source: 99.9%\n",
      "accuracy target: 97.63%\n"
     ]
    },
    {
     "name": "stderr",
     "output_type": "stream",
     "text": [
      "epoch:34 current target accuracy:97.59%:  70%|███████   | 35/50 [05:28<02:19,  9.27s/it]"
     ]
    },
    {
     "name": "stdout",
     "output_type": "stream",
     "text": [
      "epoch [35/50], loss:0.5322\n",
      "accuracy source: 99.9%\n",
      "accuracy target: 97.52%\n"
     ]
    },
    {
     "name": "stderr",
     "output_type": "stream",
     "text": [
      "epoch:35 current target accuracy:97.94%:  72%|███████▏  | 36/50 [05:37<02:09,  9.26s/it]"
     ]
    },
    {
     "name": "stdout",
     "output_type": "stream",
     "text": [
      "epoch [36/50], loss:0.5339\n",
      "accuracy source: 99.82%\n",
      "accuracy target: 97.88%\n"
     ]
    },
    {
     "name": "stderr",
     "output_type": "stream",
     "text": [
      "epoch:36 current target accuracy:97.61%:  74%|███████▍  | 37/50 [05:47<02:00,  9.27s/it]"
     ]
    },
    {
     "name": "stdout",
     "output_type": "stream",
     "text": [
      "epoch [37/50], loss:0.5300\n",
      "accuracy source: 99.9%\n",
      "accuracy target: 97.55%\n"
     ]
    },
    {
     "name": "stderr",
     "output_type": "stream",
     "text": [
      "epoch:37 current target accuracy:97.93%:  76%|███████▌  | 38/50 [05:56<01:53,  9.45s/it]"
     ]
    },
    {
     "name": "stdout",
     "output_type": "stream",
     "text": [
      "epoch [38/50], loss:0.5329\n",
      "accuracy source: 99.89%\n",
      "accuracy target: 97.86%\n"
     ]
    },
    {
     "name": "stderr",
     "output_type": "stream",
     "text": [
      "epoch:38 current target accuracy:97.85%:  78%|███████▊  | 39/50 [06:06<01:43,  9.45s/it]"
     ]
    },
    {
     "name": "stdout",
     "output_type": "stream",
     "text": [
      "epoch [39/50], loss:0.5348\n",
      "accuracy source: 99.89%\n",
      "accuracy target: 97.78%\n"
     ]
    },
    {
     "name": "stderr",
     "output_type": "stream",
     "text": [
      "epoch:39 current target accuracy:97.94%:  80%|████████  | 40/50 [06:15<01:34,  9.43s/it]"
     ]
    },
    {
     "name": "stdout",
     "output_type": "stream",
     "text": [
      "epoch [40/50], loss:0.5322\n",
      "accuracy source: 99.88%\n",
      "accuracy target: 97.88%\n"
     ]
    },
    {
     "name": "stderr",
     "output_type": "stream",
     "text": [
      "epoch:40 current target accuracy:97.92%:  82%|████████▏ | 41/50 [06:25<01:24,  9.39s/it]"
     ]
    },
    {
     "name": "stdout",
     "output_type": "stream",
     "text": [
      "epoch [41/50], loss:0.5309\n",
      "accuracy source: 99.89%\n",
      "accuracy target: 97.85%\n"
     ]
    },
    {
     "name": "stderr",
     "output_type": "stream",
     "text": [
      "epoch:41 current target accuracy:98.02%:  84%|████████▍ | 42/50 [06:34<01:14,  9.28s/it]"
     ]
    },
    {
     "name": "stdout",
     "output_type": "stream",
     "text": [
      "epoch [42/50], loss:0.5294\n",
      "accuracy source: 99.88%\n",
      "accuracy target: 97.96%\n"
     ]
    },
    {
     "name": "stderr",
     "output_type": "stream",
     "text": [
      "epoch:42 current target accuracy:97.74%:  86%|████████▌ | 43/50 [06:43<01:06,  9.47s/it]"
     ]
    },
    {
     "name": "stdout",
     "output_type": "stream",
     "text": [
      "epoch [43/50], loss:0.5296\n",
      "accuracy source: 99.9%\n",
      "accuracy target: 97.67%\n"
     ]
    },
    {
     "name": "stderr",
     "output_type": "stream",
     "text": [
      "epoch:43 current target accuracy:97.63%:  88%|████████▊ | 44/50 [06:53<00:56,  9.37s/it]"
     ]
    },
    {
     "name": "stdout",
     "output_type": "stream",
     "text": [
      "epoch [44/50], loss:0.5315\n",
      "accuracy source: 99.85%\n",
      "accuracy target: 97.56%\n"
     ]
    },
    {
     "name": "stderr",
     "output_type": "stream",
     "text": [
      "epoch:44 current target accuracy:97.63%:  90%|█████████ | 45/50 [07:02<00:47,  9.43s/it]"
     ]
    },
    {
     "name": "stdout",
     "output_type": "stream",
     "text": [
      "epoch [45/50], loss:0.5320\n",
      "accuracy source: 99.86%\n",
      "accuracy target: 97.56%\n"
     ]
    },
    {
     "name": "stderr",
     "output_type": "stream",
     "text": [
      "epoch:45 current target accuracy:98.19%:  92%|█████████▏| 46/50 [07:11<00:37,  9.32s/it]"
     ]
    },
    {
     "name": "stdout",
     "output_type": "stream",
     "text": [
      "epoch [46/50], loss:0.5320\n",
      "accuracy source: 99.86%\n",
      "accuracy target: 98.12%\n"
     ]
    },
    {
     "name": "stderr",
     "output_type": "stream",
     "text": [
      "epoch:46 current target accuracy:98.09%:  94%|█████████▍| 47/50 [07:21<00:28,  9.39s/it]"
     ]
    },
    {
     "name": "stdout",
     "output_type": "stream",
     "text": [
      "epoch [47/50], loss:0.5253\n",
      "accuracy source: 99.84%\n",
      "accuracy target: 98.03%\n"
     ]
    },
    {
     "name": "stderr",
     "output_type": "stream",
     "text": [
      "epoch:47 current target accuracy:97.92%:  96%|█████████▌| 48/50 [07:30<00:18,  9.35s/it]"
     ]
    },
    {
     "name": "stdout",
     "output_type": "stream",
     "text": [
      "epoch [48/50], loss:0.5274\n",
      "accuracy source: 99.84%\n",
      "accuracy target: 97.85%\n"
     ]
    },
    {
     "name": "stderr",
     "output_type": "stream",
     "text": [
      "epoch:48 current target accuracy:97.63%:  98%|█████████▊| 49/50 [07:39<00:09,  9.28s/it]"
     ]
    },
    {
     "name": "stdout",
     "output_type": "stream",
     "text": [
      "epoch [49/50], loss:0.5302\n",
      "accuracy source: 99.82%\n",
      "accuracy target: 97.56%\n"
     ]
    },
    {
     "name": "stderr",
     "output_type": "stream",
     "text": [
      "epoch:49 current target accuracy:97.86%: 100%|██████████| 50/50 [07:49<00:00,  9.39s/it]"
     ]
    },
    {
     "name": "stdout",
     "output_type": "stream",
     "text": [
      "epoch [50/50], loss:0.5279\n",
      "accuracy source: 99.86%\n",
      "accuracy target: 97.79%\n"
     ]
    },
    {
     "name": "stderr",
     "output_type": "stream",
     "text": [
      "\n"
     ]
    }
   ],
   "source": [
    "optimizer = torch.optim.Adam([\n",
    "    {'params': model.encoder.parameters()},\n",
    "    {'params': model.decoder_source.parameters()},\n",
    "    {'params': model.decoder_target.parameters()},\n",
    "    {'params': model.classifier.parameters()},\n",
    "    {'params': model.spe_predictor.parameters()},\n",
    "    {'params': model.share_predictor.parameters()}], lr=5e-5, weight_decay=0.001)\n",
    "\n",
    "epochs = 50\n",
    "betas = np.ones(epochs) * 5\n",
    "\n",
    "train_domain_adaptation(model, optimizer, source_train_loader, target_train_loader,\n",
    "                                            epochs=50, betas=betas, gamma=0.5, delta=0.5)"
   ]
  },
  {
   "cell_type": "code",
   "execution_count": 8,
   "metadata": {},
   "outputs": [
    {
     "name": "stderr",
     "output_type": "stream",
     "text": [
      "/home/david/anaconda3/envs/domain_adaptation/lib/python3.6/site-packages/torch/nn/modules/container.py:92: UserWarning: Implicit dimension choice for log_softmax has been deprecated. Change the call to include dim=X as an argument.\n",
      "  input = module(input)\n"
     ]
    },
    {
     "data": {
      "text/plain": [
       "0.9882"
      ]
     },
     "execution_count": 8,
     "metadata": {},
     "output_type": "execute_result"
    }
   ],
   "source": [
    "model.eval()\n",
    "test_network(model, target_test_loader)  "
   ]
  },
  {
   "cell_type": "code",
   "execution_count": 7,
   "metadata": {},
   "outputs": [
    {
     "data": {
      "image/png": "[encoded data removed]",
      "text/plain": [
       "<Figure size 432x288 with 6 Axes>"
      ]
     },
     "metadata": {
      "needs_background": "light"
     },
     "output_type": "display_data"
    },
    {
     "data": {
      "image/png": "[encoded data removed]",
      "text/plain": [
       "<Figure size 432x288 with 6 Axes>"
      ]
     },
     "metadata": {
      "needs_background": "light"
     },
     "output_type": "display_data"
    },
    {
     "data": {
      "image/png": "[encoded data removed]",
      "text/plain": [
       "<Figure size 432x288 with 6 Axes>"
      ]
     },
     "metadata": {
      "needs_background": "light"
     },
     "output_type": "display_data"
    },
    {
     "data": {
      "image/png": "[encoded data removed]",
      "text/plain": [
       "<Figure size 432x288 with 6 Axes>"
      ]
     },
     "metadata": {
      "needs_background": "light"
     },
     "output_type": "display_data"
    },
    {
     "data": {
      "image/png": "[encoded data removed]",
      "text/plain": [
       "<Figure size 432x288 with 6 Axes>"
      ]
     },
     "metadata": {
      "needs_background": "light"
     },
     "output_type": "display_data"
    },
    {
     "data": {
      "image/png": "[encoded data removed]",
      "text/plain": [
       "<Figure size 432x288 with 6 Axes>"
      ]
     },
     "metadata": {
      "needs_background": "light"
     },
     "output_type": "display_data"
    },
    {
     "data": {
      "image/png": "[encoded data removed]",
      "text/plain": [
       "<Figure size 432x288 with 6 Axes>"
      ]
     },
     "metadata": {
      "needs_background": "light"
     },
     "output_type": "display_data"
    },
    {
     "data": {
      "image/png": "[encoded data removed]",
      "text/plain": [
       "<Figure size 432x288 with 6 Axes>"
      ]
     },
     "metadata": {
      "needs_background": "light"
     },
     "output_type": "display_data"
    },
    {
     "data": {
      "image/png": "[encoded data removed]",
      "text/plain": [
       "<Figure size 432x288 with 6 Axes>"
      ]
     },
     "metadata": {
      "needs_background": "light"
     },
     "output_type": "display_data"
    },
    {
     "data": {
      "image/png": "[encoded data removed]",
      "text/plain": [
       "<Figure size 432x288 with 6 Axes>"
      ]
     },
     "metadata": {
      "needs_background": "light"
     },
     "output_type": "display_data"
    },
    {
     "data": {
      "image/png": "[encoded data removed]",
      "text/plain": [
       "<Figure size 432x288 with 6 Axes>"
      ]
     },
     "metadata": {
      "needs_background": "light"
     },
     "output_type": "display_data"
    },
    {
     "data": {
      "image/png": "[encoded data removed]",
      "text/plain": [
       "<Figure size 1152x720 with 1 Axes>"
      ]
     },
     "metadata": {
      "needs_background": "light"
     },
     "output_type": "display_data"
    }
   ],
   "source": [
    "plot_target_cross_domain_swapping(model, source_train_loader, target_train_loader)\n",
    "plot_tsne(model, source_train_loader, target_train_loader, batch_size=64, feature_size=150)"
   ]
  },
  {
   "cell_type": "code",
   "execution_count": 9,
   "metadata": {},
   "outputs": [
    {
     "name": "stderr",
     "output_type": "stream",
     "text": [
      "/home/david/anaconda3/envs/domain_adaptation/lib/python3.6/site-packages/torch/serialization.py:256: UserWarning: Couldn't retrieve source code for container of type Encoder. It won't be checked for correctness upon loading.\n",
      "  \"type \" + obj.__name__ + \". It won't be checked \"\n",
      "/home/david/anaconda3/envs/domain_adaptation/lib/python3.6/site-packages/torch/serialization.py:256: UserWarning: Couldn't retrieve source code for container of type Decoder. It won't be checked for correctness upon loading.\n",
      "  \"type \" + obj.__name__ + \". It won't be checked \"\n"
     ]
    }
   ],
   "source": [
    "torch.save(model, \"usps_to_mnist.pth\")"
   ]
  },
  {
   "cell_type": "code",
   "execution_count": null,
   "metadata": {},
   "outputs": [],
   "source": []
  }
 ],
 "metadata": {
  "kernelspec": {
   "display_name": "Python 3",
   "language": "python",
   "name": "python3"
  },
  "language_info": {
   "codemirror_mode": {
    "name": "ipython",
    "version": 3
   },
   "file_extension": ".py",
   "mimetype": "text/x-python",
   "name": "python",
   "nbconvert_exporter": "python",
   "pygments_lexer": "ipython3",
   "version": "3.6.10"
  }
 },
 "nbformat": 4,
 "nbformat_minor": 4
}
